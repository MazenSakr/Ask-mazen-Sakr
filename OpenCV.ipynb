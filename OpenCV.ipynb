{
 "cells": [
  {
   "cell_type": "markdown",
   "metadata": {},
   "source": [
    "Task 1"
   ]
  },
  {
   "cell_type": "code",
   "execution_count": 17,
   "metadata": {},
   "outputs": [
    {
     "data": {
      "text/plain": [
       "<function matplotlib.pyplot.show(close=None, block=None)>"
      ]
     },
     "execution_count": 17,
     "metadata": {},
     "output_type": "execute_result"
    },
    {
     "data": {
      "image/png": "[encoded data removed]",
      "text/plain": [
       "<Figure size 640x480 with 1 Axes>"
      ]
     },
     "metadata": {},
     "output_type": "display_data"
    }
   ],
   "source": [
    "import cv2\n",
    "import numpy as np\n",
    "import matplotlib.pyplot as plt\n",
    "\n",
    "image1 = np.zeros((50,50,3),np.uint8)\n",
    "image1[:,:] = (125,0,246)\n",
    "image2 = np.zeros((50,50,3),np.uint8)\n",
    "image2[:,:] = (255,23,15)\n",
    "image3 = np.zeros((50,50,3),np.uint8)\n",
    "image3[:,:] = (15,255,30)\n",
    "image4 = np.zeros((50,50,3),np.uint8)\n",
    "image4[:,:] = (35,0,12)\n",
    "\n",
    "row1 = np.hstack((image1,image2))\n",
    "row2 = np.hstack((image3,image4))\n",
    "finalImage = np.vstack((row1,row2))\n",
    "finalImage = cv2.cvtColor(finalImage,cv2.COLOR_BGR2RGB)\n",
    "\n",
    "plt.imshow(finalImage)\n",
    "plt.xticks([])\n",
    "plt.yticks([])\n",
    "plt.show"
   ]
  },
  {
   "cell_type": "markdown",
   "metadata": {},
   "source": [
    "Task 2"
   ]
  },
  {
   "cell_type": "code",
   "execution_count": 1,
   "metadata": {},
   "outputs": [
    {
     "ename": "error",
     "evalue": "OpenCV(4.6.0) C:\\Users\\cf\\AppData\\Local\\Temp\\pip-install-rnaycmgy\\opencv-python\\opencv\\modules\\highgui\\src\\window.cpp:967: error: (-215:Assertion failed) size.width>0 && size.height>0 in function 'cv::imshow'\n",
     "output_type": "error",
     "traceback": [
      "\u001b[1;31m---------------------------------------------------------------------------\u001b[0m",
      "\u001b[1;31merror\u001b[0m                                     Traceback (most recent call last)",
      "Cell \u001b[1;32mIn [1], line 46\u001b[0m\n\u001b[0;32m     44\u001b[0m         cv2\u001b[39m.\u001b[39mimshow(\u001b[39m\"\u001b[39m\u001b[39mVideo4\u001b[39m\u001b[39m\"\u001b[39m,imageHSV)\n\u001b[0;32m     45\u001b[0m     \u001b[39m#show original only z case is implicit\u001b[39;00m\n\u001b[1;32m---> 46\u001b[0m     cv2\u001b[39m.\u001b[39mimshow(\u001b[39m\"\u001b[39m\u001b[39mVideo\u001b[39m\u001b[39m\"\u001b[39m,frame)\n\u001b[0;32m     47\u001b[0m     lastKey \u001b[39m=\u001b[39m key\n\u001b[0;32m     49\u001b[0m capture\u001b[39m.\u001b[39mrelease()\n",
      "\u001b[1;31merror\u001b[0m: OpenCV(4.6.0) C:\\Users\\cf\\AppData\\Local\\Temp\\pip-install-rnaycmgy\\opencv-python\\opencv\\modules\\highgui\\src\\window.cpp:967: error: (-215:Assertion failed) size.width>0 && size.height>0 in function 'cv::imshow'\n"
     ]
    }
   ],
   "source": [
    "import cv2\n",
    "from cv2 import ROTATE_90_CLOCKWISE\n",
    "from cv2 import COLOR_BGR2GRAY\n",
    "from cv2 import COLOR_BGR2HSV\n",
    "import numpy as np\n",
    "\n",
    "capture = cv2.VideoCapture(\"http://192.168.0.5:4747/video\")\n",
    "frameWidth = int(capture.get(3))\n",
    "frameHeight = int(capture.get(4))\n",
    "frameSize = (frameWidth,frameHeight)\n",
    "FPS = int(capture.get(5))\n",
    "\n",
    "key = 'z'\n",
    "lastKey = 'z'\n",
    "\n",
    "while True :\n",
    "    check, frame = capture.read()\n",
    "    readkey = cv2.waitKey(20)\n",
    "    if readkey != -1 :\n",
    "        key = readkey\n",
    "        cv2.destroyAllWindows()\n",
    "    if  key == ord('q') or key == ord('Q') :\n",
    "        break\n",
    "    elif key == ord('r') or key == ord('R') :#rotate frame\n",
    "        frame = cv2.rotate(frame,ROTATE_90_CLOCKWISE)\n",
    "    elif key == ord('c') or key == ord('C') :#save frame\n",
    "        cv2.imwrite(\"Resources/Capture.jpg\",frame)   \n",
    "    elif (key == ord('s') or key == ord('s')) and (lastKey != ord('s') or lastKey != ord('S')) :#start save video\n",
    "        outputVideo = cv2.VideoWriter('Resources/CaptureVideo.avi', cv2.VideoWriter_fourcc('M','J','P','G'), FPS, frameSize)\n",
    "    elif (key == ord('s') or key == ord('S')) and (lastKey == ord('s') or lastKey == ord('S') ) :#save video\n",
    "        outputVideo.write(frame)\n",
    "    elif (key != ord('s') or key != ord('S')) and (lastKey == ord('s') or lastKey == ord('S')) :#end save video\n",
    "        outputVideo.release()\n",
    "    elif key == ord('g') or key == ord('G') :#convert grayscale\n",
    "        frame = cv2.cvtColor(frame,COLOR_BGR2GRAY)\n",
    "    elif key == ord('h') or key == ord('H')  :#convertHSV\n",
    "        frame = cv2.cvtColor(frame,COLOR_BGR2HSV)\n",
    "    elif key == ord('x') or key == ord('X') :#show all\n",
    "        rotatedFrame = cv2.rotate(frame,ROTATE_90_CLOCKWISE)\n",
    "        cv2.imshow(\"Video2\",rotatedFrame)\n",
    "        imageGray = cv2.cvtColor(frame,COLOR_BGR2GRAY)\n",
    "        cv2.imshow(\"Video3\",imageGray)\n",
    "        imageHSV = cv2.cvtColor(frame,COLOR_BGR2HSV)\n",
    "        cv2.imshow(\"Video4\",imageHSV)\n",
    "    #show original only z case is implicit\n",
    "    cv2.imshow(\"Video\",frame)\n",
    "    lastKey = key\n",
    "    \n",
    "capture.release()\n",
    "cv2.destroyAllWindows()\n"
   ]
  },
  {
   "cell_type": "markdown",
   "metadata": {},
   "source": [
    "Task 3"
   ]
  },
  {
   "cell_type": "code",
   "execution_count": 8,
   "metadata": {},
   "outputs": [
    {
     "data": {
      "image/png": "[encoded data removed]",
      "text/plain": [
       "<Figure size 640x480 with 1 Axes>"
      ]
     },
     "metadata": {},
     "output_type": "display_data"
    }
   ],
   "source": [
    "import cv2\n",
    "import numpy as np\n",
    "import matplotlib.pyplot as plt\n",
    "import math\n",
    "\n",
    "#draw map\n",
    "Map = np.zeros((457,912,3),np.uint8)\n",
    "Map[:,:] = (255,255,255)\n",
    "counter = 0 \n",
    "while(counter<457) :\n",
    "    cv2.line(Map,(0,counter),(912,counter),(0,0,0),1)\n",
    "    cv2.line(Map,(counter,0),(counter,454),(0,0,0),1)\n",
    "    cv2.line(Map,(counter+456,0),(counter+456,454),(0,0,0),1)\n",
    "    counter += 19\n",
    "cv2.rectangle(Map,(95,171),(114,190),(0,0,0),-1)\n",
    "\n",
    "# Maths explnation:\n",
    "# first the distace is calculated using distance = speed * time\n",
    "# then distance*cos(angle) is the change in x dimension\n",
    "# distance*sin(angle) is the change in y dimension \n",
    "# then the two changes are added to the original point to get the final point \n",
    "\n",
    "#calculate and draw line and end point\n",
    "angle = float(input(\"Input angle in degree:\"))-90\n",
    "speed = float(input(\"Input speed in m/s:\"))\n",
    "time = float(input(\"Input time taken in hours:\"))\n",
    "distance = time*3.6*speed\n",
    "Ychange = int(distance*math.cos(math.radians(angle))*9.5)#9.5 is the ratio of pixels per km\n",
    "Xchange = int(distance*math.sin(math.radians(angle))*9.5)\n",
    "\n",
    "cv2.rectangle(Map,(95+Ychange,171+Xchange),(114+Ychange,190+Xchange),(0,0,255),-1)\n",
    "cv2.line(Map,(105,180),(105+Ychange,180+Xchange),(0,0,0),3)\n",
    "\n",
    "#draw and output\n",
    "Map = cv2.cvtColor(Map,cv2.COLOR_BGR2RGB)\n",
    "plt.imshow(Map)\n",
    "plt.xlabel(\"South\")\n",
    "plt.ylabel(\"East\")\n",
    "plt.title(\"North\")\n",
    "plt.xticks([])\n",
    "plt.yticks([])\n",
    "plt.show()\n"
   ]
  },
  {
   "cell_type": "markdown",
   "metadata": {},
   "source": [
    "Task 4"
   ]
  },
  {
   "cell_type": "code",
   "execution_count": 15,
   "metadata": {},
   "outputs": [],
   "source": [
    "import cv2\n",
    "import numpy as np\n",
    "\n",
    "\n",
    "def mouseClick(event,x,y,flags,parameters) :\n",
    "    global canvas\n",
    "    global lastX\n",
    "    global lastY\n",
    "    if event == cv2.EVENT_LBUTTONDBLCLK :#draw circle\n",
    "        canvas = cv2.circle(canvas,(x,y),10,(255),-1)\n",
    "        lastX = x\n",
    "        lastY = y\n",
    "    if event == cv2.EVENT_RBUTTONDOWN :#erase last circle\n",
    "        canvas = cv2.circle(canvas,(lastX,lastY),10,(0),-1)\n",
    "    if event == cv2.EVENT_RBUTTONDBLCLK :#erase all circles\n",
    "        canvas[:,:] = (0)\n",
    "\n",
    "lastX = 0\n",
    "lastY = 0 \n",
    "canvas = np.zeros((500,500,1),np.uint8)\n",
    "while True :\n",
    "    cv2.imshow(\"Drawing App\",canvas)\n",
    "    cv2.setMouseCallback('Drawing App', mouseClick)\n",
    "    if(cv2.waitKey(20) == ord('q')) :\n",
    "        cv2.destroyAllWindows()\n",
    "        break\n",
    "\n"
   ]
  },
  {
   "cell_type": "markdown",
   "metadata": {},
   "source": [
    "Task 5"
   ]
  },
  {
   "cell_type": "code",
   "execution_count": 7,
   "metadata": {},
   "outputs": [],
   "source": [
    "import cv2\n",
    "import numpy as np\n",
    "\n",
    "\n",
    "def mouseClick(event,x,y,flags,parameters) :\n",
    "    global image\n",
    "    global points\n",
    "    global counter\n",
    "    if event == cv2.EVENT_LBUTTONDOWN and counter< 4:\n",
    "        points1[counter] = (x,y)\n",
    "        counter+=1\n",
    "\n",
    "points1 = np.float32([\n",
    "[0,0], #topLeft\n",
    "[0,0], #topRight\n",
    "[0,0], #bottomLeft\n",
    "[0,0] #bottomRight\n",
    "])\n",
    "\n",
    "points2 = np.float32([\n",
    "[0,0], #topLeft\n",
    "[300,0], #topRight\n",
    "[0,423], #bottomLeft\n",
    "[300,423] #bottomRight\n",
    "])\n",
    "\n",
    "counter = 0\n",
    "\n",
    "image = cv2.imread('Resources/computer vision.PNG')\n",
    "while True :\n",
    "    cv2.imshow(\"Image\",image)\n",
    "    cv2.setMouseCallback('Image', mouseClick)\n",
    "    if(cv2.waitKey(20) == ord('q')) :\n",
    "        cv2.destroyAllWindows()\n",
    "        break\n",
    "    if counter == 4 :\n",
    "        matrix = cv2.getPerspectiveTransform(points1,points2)\n",
    "        image = cv2.warpPerspective(image,matrix,(300,423))\n",
    "        counter+=1   \n",
    "\n",
    " \n",
    "    "
   ]
  }
 ],
 "metadata": {
  "kernelspec": {
   "display_name": "Python 3.8.1 64-bit",
   "language": "python",
   "name": "python3"
  },
  "language_info": {
   "codemirror_mode": {
    "name": "ipython",
    "version": 3
   },
   "file_extension": ".py",
   "mimetype": "text/x-python",
   "name": "python",
   "nbconvert_exporter": "python",
   "pygments_lexer": "ipython3",
   "version": "3.8.1"
  },
  "orig_nbformat": 4,
  "vscode": {
   "interpreter": {
    "hash": "33490d1ba8b44c49b958efb6e7277dfac8c8250098b55b8de8698496d930c2a7"
   }
  }
 },
 "nbformat": 4,
 "nbformat_minor": 2
}
